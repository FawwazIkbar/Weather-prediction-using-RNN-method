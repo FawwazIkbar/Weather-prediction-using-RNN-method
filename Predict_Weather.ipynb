{
 "cells": [
  {
   "cell_type": "code",
   "execution_count": 1,
   "id": "01dafc53-5699-424c-857d-0288a7227cdd",
   "metadata": {},
   "outputs": [
    {
     "name": "stdout",
     "output_type": "stream",
     "text": [
      "WARNING:tensorflow:From c:\\Users\\USER\\AppData\\Local\\Programs\\Python\\Python311\\Lib\\site-packages\\keras\\src\\losses.py:2976: The name tf.losses.sparse_softmax_cross_entropy is deprecated. Please use tf.compat.v1.losses.sparse_softmax_cross_entropy instead.\n",
      "\n"
     ]
    }
   ],
   "source": [
    "import pandas as pd\n",
    "import numpy as np\n",
    "from sklearn.preprocessing import MinMaxScaler, LabelEncoder\n",
    "from sklearn.model_selection import train_test_split\n",
    "from keras.models import Sequential\n",
    "from keras.layers import SimpleRNN, Dense, Dropout\n",
    "from keras.callbacks import EarlyStopping\n",
    "from sklearn.metrics import classification_report, f1_score, confusion_matrix, ConfusionMatrixDisplay\n",
    "import matplotlib.pyplot as plt\n"
   ]
  },
  {
   "cell_type": "code",
   "execution_count": 2,
   "id": "1d469cf9-4fe3-4f66-bf57-86757a6fb5c2",
   "metadata": {},
   "outputs": [],
   "source": [
    "# Membaca Data\n",
    "data = pd.read_csv('data/seattle-weather.csv')"
   ]
  },
  {
   "cell_type": "code",
   "execution_count": 4,
   "id": "937125e3",
   "metadata": {},
   "outputs": [
    {
     "data": {
      "text/html": [
       "<div>\n",
       "<style scoped>\n",
       "    .dataframe tbody tr th:only-of-type {\n",
       "        vertical-align: middle;\n",
       "    }\n",
       "\n",
       "    .dataframe tbody tr th {\n",
       "        vertical-align: top;\n",
       "    }\n",
       "\n",
       "    .dataframe thead th {\n",
       "        text-align: right;\n",
       "    }\n",
       "</style>\n",
       "<table border=\"1\" class=\"dataframe\">\n",
       "  <thead>\n",
       "    <tr style=\"text-align: right;\">\n",
       "      <th></th>\n",
       "      <th>date</th>\n",
       "      <th>precipitation</th>\n",
       "      <th>temp_max</th>\n",
       "      <th>temp_min</th>\n",
       "      <th>wind</th>\n",
       "      <th>weather</th>\n",
       "    </tr>\n",
       "  </thead>\n",
       "  <tbody>\n",
       "    <tr>\n",
       "      <th>0</th>\n",
       "      <td>2012-01-01</td>\n",
       "      <td>0.0</td>\n",
       "      <td>12.8</td>\n",
       "      <td>5.0</td>\n",
       "      <td>4.7</td>\n",
       "      <td>drizzle</td>\n",
       "    </tr>\n",
       "    <tr>\n",
       "      <th>1</th>\n",
       "      <td>2012-01-02</td>\n",
       "      <td>10.9</td>\n",
       "      <td>10.6</td>\n",
       "      <td>2.8</td>\n",
       "      <td>4.5</td>\n",
       "      <td>rain</td>\n",
       "    </tr>\n",
       "    <tr>\n",
       "      <th>2</th>\n",
       "      <td>2012-01-03</td>\n",
       "      <td>0.8</td>\n",
       "      <td>11.7</td>\n",
       "      <td>7.2</td>\n",
       "      <td>2.3</td>\n",
       "      <td>rain</td>\n",
       "    </tr>\n",
       "    <tr>\n",
       "      <th>3</th>\n",
       "      <td>2012-01-04</td>\n",
       "      <td>20.3</td>\n",
       "      <td>12.2</td>\n",
       "      <td>5.6</td>\n",
       "      <td>4.7</td>\n",
       "      <td>rain</td>\n",
       "    </tr>\n",
       "    <tr>\n",
       "      <th>4</th>\n",
       "      <td>2012-01-05</td>\n",
       "      <td>1.3</td>\n",
       "      <td>8.9</td>\n",
       "      <td>2.8</td>\n",
       "      <td>6.1</td>\n",
       "      <td>rain</td>\n",
       "    </tr>\n",
       "  </tbody>\n",
       "</table>\n",
       "</div>"
      ],
      "text/plain": [
       "         date  precipitation  temp_max  temp_min  wind  weather\n",
       "0  2012-01-01            0.0      12.8       5.0   4.7  drizzle\n",
       "1  2012-01-02           10.9      10.6       2.8   4.5     rain\n",
       "2  2012-01-03            0.8      11.7       7.2   2.3     rain\n",
       "3  2012-01-04           20.3      12.2       5.6   4.7     rain\n",
       "4  2012-01-05            1.3       8.9       2.8   6.1     rain"
      ]
     },
     "execution_count": 4,
     "metadata": {},
     "output_type": "execute_result"
    }
   ],
   "source": [
    "data.head()"
   ]
  },
  {
   "cell_type": "code",
   "execution_count": 5,
   "id": "bb8d9029",
   "metadata": {},
   "outputs": [
    {
     "name": "stdout",
     "output_type": "stream",
     "text": [
      "<class 'pandas.core.frame.DataFrame'>\n",
      "RangeIndex: 1461 entries, 0 to 1460\n",
      "Data columns (total 6 columns):\n",
      " #   Column         Non-Null Count  Dtype  \n",
      "---  ------         --------------  -----  \n",
      " 0   date           1461 non-null   object \n",
      " 1   precipitation  1461 non-null   float64\n",
      " 2   temp_max       1461 non-null   float64\n",
      " 3   temp_min       1461 non-null   float64\n",
      " 4   wind           1461 non-null   float64\n",
      " 5   weather        1461 non-null   object \n",
      "dtypes: float64(4), object(2)\n",
      "memory usage: 68.6+ KB\n"
     ]
    }
   ],
   "source": [
    "data.info()"
   ]
  },
  {
   "cell_type": "code",
   "execution_count": 3,
   "id": "c630b739",
   "metadata": {},
   "outputs": [
    {
     "data": {
      "text/plain": [
       "<Axes: >"
      ]
     },
     "execution_count": 3,
     "metadata": {},
     "output_type": "execute_result"
    },
    {
     "data": {
      "image/png": "[encoded data removed]",
      "text/plain": [
       "<Figure size 640x480 with 1 Axes>"
      ]
     },
     "metadata": {},
     "output_type": "display_data"
    }
   ],
   "source": [
    "data.boxplot(column=['precipitation', 'temp_max', 'temp_min'])"
   ]
  },
  {
   "cell_type": "code",
   "execution_count": 6,
   "id": "c2049b0e",
   "metadata": {},
   "outputs": [
    {
     "data": {
      "text/plain": [
       "0"
      ]
     },
     "execution_count": 6,
     "metadata": {},
     "output_type": "execute_result"
    }
   ],
   "source": [
    "data.duplicated().sum()"
   ]
  },
  {
   "cell_type": "code",
   "execution_count": 7,
   "id": "a42e116a",
   "metadata": {},
   "outputs": [
    {
     "data": {
      "text/plain": [
       "date             0\n",
       "precipitation    0\n",
       "temp_max         0\n",
       "temp_min         0\n",
       "wind             0\n",
       "weather          0\n",
       "dtype: int64"
      ]
     },
     "execution_count": 7,
     "metadata": {},
     "output_type": "execute_result"
    }
   ],
   "source": [
    "data.isnull().sum()"
   ]
  },
  {
   "cell_type": "code",
   "execution_count": 8,
   "id": "05c60ba9",
   "metadata": {},
   "outputs": [
    {
     "data": {
      "text/plain": [
       "(1461, 6)"
      ]
     },
     "execution_count": 8,
     "metadata": {},
     "output_type": "execute_result"
    }
   ],
   "source": [
    "data.shape #Mengecek ukuran dataframe"
   ]
  },
  {
   "cell_type": "code",
   "execution_count": 19,
   "id": "bd0d96fb",
   "metadata": {},
   "outputs": [
    {
     "name": "stdout",
     "output_type": "stream",
     "text": [
      "Jumlah data masing-masing cuaca (keseluruhan dataset):\n",
      "weather\n",
      "rain       641\n",
      "sun        640\n",
      "fog        101\n",
      "drizzle     53\n",
      "snow        26\n",
      "Name: count, dtype: int64\n",
      "\n",
      "Total jumlah data: 1461\n"
     ]
    }
   ],
   "source": [
    "# Menghitung jumlah data masing-masing cuaca pada keseluruhan dataset\n",
    "print(\"Jumlah data masing-masing cuaca (keseluruhan dataset):\")\n",
    "print(data['weather'].value_counts())\n",
    "\n",
    "# Menghitung total semua data\n",
    "total_data = len(data)\n",
    "print(\"\\nTotal jumlah data:\", total_data)"
   ]
  },
  {
   "cell_type": "code",
   "execution_count": 11,
   "id": "42447269-150e-41bd-a295-2cc68f0e0261",
   "metadata": {},
   "outputs": [],
   "source": [
    "# Memilih Fitur dan Target\n",
    "features = data[['precipitation', 'temp_max', 'temp_min', 'wind']].values\n",
    "target = data['weather'].values"
   ]
  },
  {
   "cell_type": "code",
   "execution_count": 12,
   "id": "0db7c82b-c942-4c4a-98c6-b7c64d8a0ad6",
   "metadata": {},
   "outputs": [],
   "source": [
    "#  Encoding Target\n",
    "le = LabelEncoder()\n",
    "target_encoded = le.fit_transform(target)"
   ]
  },
  {
   "cell_type": "code",
   "execution_count": 13,
   "id": "67873071-ea9b-447f-a3ac-791d3748368a",
   "metadata": {},
   "outputs": [],
   "source": [
    "#  Normalisasi Fitur\n",
    "features_scaled = MinMaxScaler().fit_transform(features)"
   ]
  },
  {
   "cell_type": "code",
   "execution_count": 14,
   "id": "280b7466-3227-4952-9c16-5e9ddb455c15",
   "metadata": {},
   "outputs": [],
   "source": [
    "# Membagi Data Menjadi Train dan Test\n",
    "X_train, X_test, y_train, y_test = train_test_split(features_scaled, target_encoded, test_size=0.2, random_state=42)"
   ]
  },
  {
   "cell_type": "code",
   "execution_count": 15,
   "id": "171f3b84",
   "metadata": {},
   "outputs": [
    {
     "name": "stdout",
     "output_type": "stream",
     "text": [
      "\n",
      "Jumlah data masing-masing cuaca di set pelatihan (training):\n",
      "{'drizzle': 44, 'fog': 76, 'rain': 521, 'snow': 18, 'sun': 509}\n"
     ]
    }
   ],
   "source": [
    "# Menghitung jumlah data masing-masing cuaca di set pelatihan (training)\n",
    "print(\"\\nJumlah data masing-masing cuaca di set pelatihan (training):\")\n",
    "unique_train, counts_train = np.unique(y_train, return_counts=True)\n",
    "train_counts = dict(zip(le.inverse_transform(unique_train), counts_train))\n",
    "print(train_counts)"
   ]
  },
  {
   "cell_type": "code",
   "execution_count": 16,
   "id": "8aa56aa5",
   "metadata": {},
   "outputs": [
    {
     "name": "stdout",
     "output_type": "stream",
     "text": [
      "\n",
      "Jumlah data masing-masing cuaca di set pengujian (testing):\n",
      "{'drizzle': 9, 'fog': 25, 'rain': 120, 'snow': 8, 'sun': 131}\n"
     ]
    }
   ],
   "source": [
    "# Menghitung jumlah data masing-masing cuaca di set pengujian (testing)\n",
    "print(\"\\nJumlah data masing-masing cuaca di set pengujian (testing):\")\n",
    "unique_test, counts_test = np.unique(y_test, return_counts=True)\n",
    "test_counts = dict(zip(le.inverse_transform(unique_test), counts_test))\n",
    "print(test_counts)"
   ]
  },
  {
   "cell_type": "code",
   "execution_count": 17,
   "id": "66e1c104",
   "metadata": {},
   "outputs": [
    {
     "name": "stdout",
     "output_type": "stream",
     "text": [
      "\n",
      "Total jumlah data pelatihan (training): 1168\n",
      "Total jumlah data pengujian (testing): 293\n"
     ]
    }
   ],
   "source": [
    "# Menghitung total data pelatihan dan pengujian\n",
    "print(\"\\nTotal jumlah data pelatihan (training):\", len(X_train))\n",
    "print(\"Total jumlah data pengujian (testing):\", len(X_test))"
   ]
  },
  {
   "cell_type": "code",
   "execution_count": 21,
   "id": "a747fc94-2f25-491a-ab48-65cc2bb595a6",
   "metadata": {},
   "outputs": [],
   "source": [
    "# Mengubah Bentuk Data untuk RNN\n",
    "X_train = X_train.reshape((X_train.shape[0], 1, X_train.shape[1]))\n",
    "X_test = X_test.reshape((X_test.shape[0], 1, X_test.shape[1]))"
   ]
  },
  {
   "cell_type": "code",
   "execution_count": 50,
   "id": "be7be324-3c56-4be0-904a-3d0255ca4546",
   "metadata": {},
   "outputs": [],
   "source": [
    "# Membangun Model RNN\n",
    "model = Sequential([\n",
    "    SimpleRNN(100, return_sequences=True, input_shape=(X_train.shape[1], X_train.shape[2])),\n",
    "    Dropout(0.2),  # Dropout untuk mengurangi overfitting\n",
    "    SimpleRNN(50),\n",
    "    Dropout(0.2),\n",
    "    Dense(5, activation='softmax')  # 5 kelas untuk kondisi cuaca\n",
    "])"
   ]
  },
  {
   "cell_type": "code",
   "execution_count": 51,
   "id": "61a99206-c3b2-4ba0-b585-c25a05c5a02e",
   "metadata": {},
   "outputs": [],
   "source": [
    "# Mengompilasi Model\n",
    "model.compile(optimizer='adam', loss='sparse_categorical_crossentropy', metrics=['accuracy'])"
   ]
  },
  {
   "cell_type": "code",
   "execution_count": 52,
   "id": "15d19632-491d-4d67-a13e-7511de1024c9",
   "metadata": {},
   "outputs": [],
   "source": [
    "# Early Stopping\n",
    "early_stopping = EarlyStopping(monitor='val_loss', patience=10, restore_best_weights=True)"
   ]
  },
  {
   "cell_type": "code",
   "execution_count": 53,
   "id": "779ba171",
   "metadata": {},
   "outputs": [
    {
     "name": "stdout",
     "output_type": "stream",
     "text": [
      "Epoch 1/200\n",
      "19/19 [==============================] - 2s 17ms/step - loss: 1.3566 - accuracy: 0.4247 - val_loss: 1.1317 - val_accuracy: 0.6041\n",
      "Epoch 2/200\n",
      "19/19 [==============================] - 0s 4ms/step - loss: 1.0718 - accuracy: 0.5411 - val_loss: 1.0452 - val_accuracy: 0.6587\n",
      "Epoch 3/200\n",
      "19/19 [==============================] - 0s 4ms/step - loss: 1.0110 - accuracy: 0.6310 - val_loss: 1.0024 - val_accuracy: 0.6894\n",
      "Epoch 4/200\n",
      "19/19 [==============================] - 0s 4ms/step - loss: 0.9753 - accuracy: 0.6455 - val_loss: 0.9534 - val_accuracy: 0.6928\n",
      "Epoch 5/200\n",
      "19/19 [==============================] - 0s 4ms/step - loss: 0.9321 - accuracy: 0.6618 - val_loss: 0.9207 - val_accuracy: 0.6928\n",
      "Epoch 6/200\n",
      "19/19 [==============================] - 0s 4ms/step - loss: 0.8941 - accuracy: 0.6986 - val_loss: 0.8881 - val_accuracy: 0.6997\n",
      "Epoch 7/200\n",
      "19/19 [==============================] - 0s 3ms/step - loss: 0.8752 - accuracy: 0.6935 - val_loss: 0.8625 - val_accuracy: 0.7031\n",
      "Epoch 8/200\n",
      "19/19 [==============================] - 0s 3ms/step - loss: 0.8547 - accuracy: 0.6986 - val_loss: 0.8376 - val_accuracy: 0.7235\n",
      "Epoch 9/200\n",
      "19/19 [==============================] - 0s 4ms/step - loss: 0.8273 - accuracy: 0.7243 - val_loss: 0.8205 - val_accuracy: 0.7304\n",
      "Epoch 10/200\n",
      "19/19 [==============================] - 0s 3ms/step - loss: 0.8012 - accuracy: 0.7277 - val_loss: 0.8038 - val_accuracy: 0.7338\n",
      "Epoch 11/200\n",
      "19/19 [==============================] - 0s 4ms/step - loss: 0.7832 - accuracy: 0.7397 - val_loss: 0.7838 - val_accuracy: 0.7304\n",
      "Epoch 12/200\n",
      "19/19 [==============================] - 0s 3ms/step - loss: 0.7751 - accuracy: 0.7380 - val_loss: 0.7666 - val_accuracy: 0.7338\n",
      "Epoch 13/200\n",
      "19/19 [==============================] - 0s 3ms/step - loss: 0.7689 - accuracy: 0.7406 - val_loss: 0.7553 - val_accuracy: 0.7509\n",
      "Epoch 14/200\n",
      "19/19 [==============================] - 0s 3ms/step - loss: 0.7455 - accuracy: 0.7560 - val_loss: 0.7485 - val_accuracy: 0.7372\n",
      "Epoch 15/200\n",
      "19/19 [==============================] - 0s 3ms/step - loss: 0.7478 - accuracy: 0.7432 - val_loss: 0.7346 - val_accuracy: 0.7509\n",
      "Epoch 16/200\n",
      "19/19 [==============================] - 0s 4ms/step - loss: 0.7437 - accuracy: 0.7517 - val_loss: 0.7223 - val_accuracy: 0.7577\n",
      "Epoch 17/200\n",
      "19/19 [==============================] - 0s 4ms/step - loss: 0.7309 - accuracy: 0.7586 - val_loss: 0.7130 - val_accuracy: 0.7611\n",
      "Epoch 18/200\n",
      "19/19 [==============================] - 0s 3ms/step - loss: 0.7364 - accuracy: 0.7449 - val_loss: 0.7140 - val_accuracy: 0.7474\n",
      "Epoch 19/200\n",
      "19/19 [==============================] - 0s 3ms/step - loss: 0.7106 - accuracy: 0.7568 - val_loss: 0.6995 - val_accuracy: 0.7577\n",
      "Epoch 20/200\n",
      "19/19 [==============================] - 0s 3ms/step - loss: 0.6991 - accuracy: 0.7594 - val_loss: 0.6912 - val_accuracy: 0.7645\n",
      "Epoch 21/200\n",
      "19/19 [==============================] - 0s 4ms/step - loss: 0.6980 - accuracy: 0.7620 - val_loss: 0.6930 - val_accuracy: 0.7474\n",
      "Epoch 22/200\n",
      "19/19 [==============================] - 0s 3ms/step - loss: 0.6909 - accuracy: 0.7594 - val_loss: 0.6819 - val_accuracy: 0.7713\n",
      "Epoch 23/200\n",
      "19/19 [==============================] - 0s 3ms/step - loss: 0.6827 - accuracy: 0.7603 - val_loss: 0.6772 - val_accuracy: 0.7747\n",
      "Epoch 24/200\n",
      "19/19 [==============================] - 0s 3ms/step - loss: 0.6763 - accuracy: 0.7723 - val_loss: 0.6779 - val_accuracy: 0.7509\n",
      "Epoch 25/200\n",
      "19/19 [==============================] - 0s 3ms/step - loss: 0.6840 - accuracy: 0.7586 - val_loss: 0.6689 - val_accuracy: 0.7782\n",
      "Epoch 26/200\n",
      "19/19 [==============================] - 0s 3ms/step - loss: 0.6828 - accuracy: 0.7586 - val_loss: 0.6628 - val_accuracy: 0.7782\n",
      "Epoch 27/200\n",
      "19/19 [==============================] - 0s 3ms/step - loss: 0.6702 - accuracy: 0.7654 - val_loss: 0.6682 - val_accuracy: 0.7577\n",
      "Epoch 28/200\n",
      "19/19 [==============================] - 0s 3ms/step - loss: 0.6705 - accuracy: 0.7757 - val_loss: 0.6664 - val_accuracy: 0.7577\n",
      "Epoch 29/200\n",
      "19/19 [==============================] - 0s 3ms/step - loss: 0.6654 - accuracy: 0.7723 - val_loss: 0.6529 - val_accuracy: 0.7679\n",
      "Epoch 30/200\n",
      "19/19 [==============================] - 0s 3ms/step - loss: 0.6609 - accuracy: 0.7688 - val_loss: 0.6496 - val_accuracy: 0.7679\n",
      "Epoch 31/200\n",
      "19/19 [==============================] - 0s 3ms/step - loss: 0.6622 - accuracy: 0.7740 - val_loss: 0.6598 - val_accuracy: 0.7543\n",
      "Epoch 32/200\n",
      "19/19 [==============================] - 0s 4ms/step - loss: 0.6495 - accuracy: 0.7680 - val_loss: 0.6437 - val_accuracy: 0.7816\n",
      "Epoch 33/200\n",
      "19/19 [==============================] - 0s 3ms/step - loss: 0.6539 - accuracy: 0.7705 - val_loss: 0.6433 - val_accuracy: 0.7611\n",
      "Epoch 34/200\n",
      "19/19 [==============================] - 0s 4ms/step - loss: 0.6530 - accuracy: 0.7723 - val_loss: 0.6419 - val_accuracy: 0.7611\n",
      "Epoch 35/200\n",
      "19/19 [==============================] - 0s 3ms/step - loss: 0.6491 - accuracy: 0.7723 - val_loss: 0.6311 - val_accuracy: 0.7747\n",
      "Epoch 36/200\n",
      "19/19 [==============================] - 0s 3ms/step - loss: 0.6465 - accuracy: 0.7765 - val_loss: 0.6325 - val_accuracy: 0.7850\n",
      "Epoch 37/200\n",
      "19/19 [==============================] - 0s 4ms/step - loss: 0.6569 - accuracy: 0.7748 - val_loss: 0.6293 - val_accuracy: 0.7816\n",
      "Epoch 38/200\n",
      "19/19 [==============================] - 0s 4ms/step - loss: 0.6326 - accuracy: 0.7825 - val_loss: 0.6297 - val_accuracy: 0.7611\n",
      "Epoch 39/200\n",
      "19/19 [==============================] - 0s 3ms/step - loss: 0.6467 - accuracy: 0.7800 - val_loss: 0.6306 - val_accuracy: 0.7645\n",
      "Epoch 40/200\n",
      "19/19 [==============================] - 0s 4ms/step - loss: 0.6323 - accuracy: 0.7765 - val_loss: 0.6316 - val_accuracy: 0.7782\n",
      "Epoch 41/200\n",
      "19/19 [==============================] - 0s 4ms/step - loss: 0.6299 - accuracy: 0.7808 - val_loss: 0.6188 - val_accuracy: 0.7782\n",
      "Epoch 42/200\n",
      "19/19 [==============================] - 0s 3ms/step - loss: 0.6254 - accuracy: 0.7842 - val_loss: 0.6157 - val_accuracy: 0.7782\n",
      "Epoch 43/200\n",
      "19/19 [==============================] - 0s 3ms/step - loss: 0.6203 - accuracy: 0.7825 - val_loss: 0.6122 - val_accuracy: 0.7747\n",
      "Epoch 44/200\n",
      "19/19 [==============================] - 0s 3ms/step - loss: 0.6350 - accuracy: 0.7834 - val_loss: 0.6100 - val_accuracy: 0.7747\n",
      "Epoch 45/200\n",
      "19/19 [==============================] - 0s 3ms/step - loss: 0.6264 - accuracy: 0.7808 - val_loss: 0.6112 - val_accuracy: 0.7918\n",
      "Epoch 46/200\n",
      "19/19 [==============================] - 0s 3ms/step - loss: 0.6222 - accuracy: 0.7825 - val_loss: 0.6058 - val_accuracy: 0.7782\n",
      "Epoch 47/200\n",
      "19/19 [==============================] - 0s 3ms/step - loss: 0.6219 - accuracy: 0.7885 - val_loss: 0.6112 - val_accuracy: 0.7850\n",
      "Epoch 48/200\n",
      "19/19 [==============================] - 0s 3ms/step - loss: 0.6188 - accuracy: 0.7920 - val_loss: 0.6013 - val_accuracy: 0.7713\n",
      "Epoch 49/200\n",
      "19/19 [==============================] - 0s 4ms/step - loss: 0.6163 - accuracy: 0.7851 - val_loss: 0.5972 - val_accuracy: 0.7713\n",
      "Epoch 50/200\n",
      "19/19 [==============================] - 0s 3ms/step - loss: 0.6206 - accuracy: 0.7808 - val_loss: 0.6007 - val_accuracy: 0.7747\n",
      "Epoch 51/200\n",
      "19/19 [==============================] - 0s 4ms/step - loss: 0.6055 - accuracy: 0.7877 - val_loss: 0.6012 - val_accuracy: 0.7747\n",
      "Epoch 52/200\n",
      "19/19 [==============================] - 0s 3ms/step - loss: 0.6075 - accuracy: 0.7885 - val_loss: 0.5934 - val_accuracy: 0.7884\n",
      "Epoch 53/200\n",
      "19/19 [==============================] - 0s 3ms/step - loss: 0.6091 - accuracy: 0.7885 - val_loss: 0.6006 - val_accuracy: 0.7884\n",
      "Epoch 54/200\n",
      "19/19 [==============================] - 0s 3ms/step - loss: 0.5972 - accuracy: 0.7928 - val_loss: 0.5930 - val_accuracy: 0.7782\n",
      "Epoch 55/200\n",
      "19/19 [==============================] - 0s 3ms/step - loss: 0.6015 - accuracy: 0.7894 - val_loss: 0.5868 - val_accuracy: 0.7850\n",
      "Epoch 56/200\n",
      "19/19 [==============================] - 0s 3ms/step - loss: 0.6207 - accuracy: 0.7808 - val_loss: 0.5883 - val_accuracy: 0.7816\n",
      "Epoch 57/200\n",
      "19/19 [==============================] - 0s 4ms/step - loss: 0.6071 - accuracy: 0.7962 - val_loss: 0.5853 - val_accuracy: 0.7816\n",
      "Epoch 58/200\n",
      "19/19 [==============================] - 0s 3ms/step - loss: 0.5981 - accuracy: 0.7971 - val_loss: 0.5902 - val_accuracy: 0.7986\n",
      "Epoch 59/200\n",
      "19/19 [==============================] - 0s 3ms/step - loss: 0.5964 - accuracy: 0.7894 - val_loss: 0.5848 - val_accuracy: 0.8020\n",
      "Epoch 60/200\n",
      "19/19 [==============================] - 0s 3ms/step - loss: 0.5921 - accuracy: 0.7997 - val_loss: 0.5764 - val_accuracy: 0.7850\n",
      "Epoch 61/200\n",
      "19/19 [==============================] - 0s 4ms/step - loss: 0.5944 - accuracy: 0.7945 - val_loss: 0.5928 - val_accuracy: 0.7952\n",
      "Epoch 62/200\n",
      "19/19 [==============================] - 0s 4ms/step - loss: 0.5998 - accuracy: 0.7808 - val_loss: 0.5728 - val_accuracy: 0.7986\n",
      "Epoch 63/200\n",
      "19/19 [==============================] - 0s 4ms/step - loss: 0.5990 - accuracy: 0.8005 - val_loss: 0.5975 - val_accuracy: 0.7952\n",
      "Epoch 64/200\n",
      "19/19 [==============================] - 0s 3ms/step - loss: 0.5869 - accuracy: 0.8022 - val_loss: 0.5724 - val_accuracy: 0.7918\n",
      "Epoch 65/200\n",
      "19/19 [==============================] - 0s 3ms/step - loss: 0.5804 - accuracy: 0.8091 - val_loss: 0.5704 - val_accuracy: 0.7850\n",
      "Epoch 66/200\n",
      "19/19 [==============================] - 0s 3ms/step - loss: 0.5880 - accuracy: 0.7962 - val_loss: 0.5661 - val_accuracy: 0.8020\n",
      "Epoch 67/200\n",
      "19/19 [==============================] - 0s 3ms/step - loss: 0.5738 - accuracy: 0.8082 - val_loss: 0.5648 - val_accuracy: 0.7986\n",
      "Epoch 68/200\n",
      "19/19 [==============================] - 0s 4ms/step - loss: 0.5742 - accuracy: 0.8099 - val_loss: 0.5626 - val_accuracy: 0.8020\n",
      "Epoch 69/200\n",
      "19/19 [==============================] - 0s 4ms/step - loss: 0.5790 - accuracy: 0.8031 - val_loss: 0.5626 - val_accuracy: 0.7850\n",
      "Epoch 70/200\n",
      "19/19 [==============================] - 0s 3ms/step - loss: 0.5820 - accuracy: 0.8057 - val_loss: 0.5855 - val_accuracy: 0.7918\n",
      "Epoch 71/200\n",
      "19/19 [==============================] - 0s 3ms/step - loss: 0.5836 - accuracy: 0.8082 - val_loss: 0.5630 - val_accuracy: 0.8055\n",
      "Epoch 72/200\n",
      "19/19 [==============================] - 0s 3ms/step - loss: 0.5750 - accuracy: 0.8099 - val_loss: 0.5564 - val_accuracy: 0.8055\n",
      "Epoch 73/200\n",
      "19/19 [==============================] - 0s 3ms/step - loss: 0.5818 - accuracy: 0.8082 - val_loss: 0.5556 - val_accuracy: 0.7986\n",
      "Epoch 74/200\n",
      "19/19 [==============================] - 0s 3ms/step - loss: 0.5696 - accuracy: 0.8065 - val_loss: 0.5573 - val_accuracy: 0.8089\n",
      "Epoch 75/200\n",
      "19/19 [==============================] - 0s 3ms/step - loss: 0.5605 - accuracy: 0.8065 - val_loss: 0.5532 - val_accuracy: 0.8055\n",
      "Epoch 76/200\n",
      "19/19 [==============================] - 0s 3ms/step - loss: 0.5617 - accuracy: 0.8176 - val_loss: 0.5575 - val_accuracy: 0.7952\n",
      "Epoch 77/200\n",
      "19/19 [==============================] - 0s 3ms/step - loss: 0.5663 - accuracy: 0.8134 - val_loss: 0.5525 - val_accuracy: 0.8020\n",
      "Epoch 78/200\n",
      "19/19 [==============================] - 0s 3ms/step - loss: 0.5516 - accuracy: 0.8176 - val_loss: 0.5443 - val_accuracy: 0.8055\n",
      "Epoch 79/200\n",
      "19/19 [==============================] - 0s 3ms/step - loss: 0.5639 - accuracy: 0.8151 - val_loss: 0.5523 - val_accuracy: 0.8055\n",
      "Epoch 80/200\n",
      "19/19 [==============================] - 0s 3ms/step - loss: 0.5543 - accuracy: 0.8176 - val_loss: 0.5443 - val_accuracy: 0.8055\n",
      "Epoch 81/200\n",
      "19/19 [==============================] - 0s 3ms/step - loss: 0.5560 - accuracy: 0.8159 - val_loss: 0.5417 - val_accuracy: 0.8089\n",
      "Epoch 82/200\n",
      "19/19 [==============================] - 0s 3ms/step - loss: 0.5610 - accuracy: 0.8176 - val_loss: 0.5451 - val_accuracy: 0.8123\n",
      "Epoch 83/200\n",
      "19/19 [==============================] - 0s 3ms/step - loss: 0.5538 - accuracy: 0.8202 - val_loss: 0.5393 - val_accuracy: 0.8191\n",
      "Epoch 84/200\n",
      "19/19 [==============================] - 0s 3ms/step - loss: 0.5584 - accuracy: 0.8193 - val_loss: 0.5485 - val_accuracy: 0.7986\n",
      "Epoch 85/200\n",
      "19/19 [==============================] - 0s 3ms/step - loss: 0.5590 - accuracy: 0.8228 - val_loss: 0.5722 - val_accuracy: 0.7918\n",
      "Epoch 86/200\n",
      "19/19 [==============================] - 0s 3ms/step - loss: 0.5654 - accuracy: 0.8176 - val_loss: 0.5345 - val_accuracy: 0.8191\n",
      "Epoch 87/200\n",
      "19/19 [==============================] - 0s 3ms/step - loss: 0.5590 - accuracy: 0.8159 - val_loss: 0.5565 - val_accuracy: 0.8191\n",
      "Epoch 88/200\n",
      "19/19 [==============================] - 0s 3ms/step - loss: 0.5606 - accuracy: 0.8125 - val_loss: 0.5503 - val_accuracy: 0.8123\n",
      "Epoch 89/200\n",
      "19/19 [==============================] - 0s 3ms/step - loss: 0.5492 - accuracy: 0.8211 - val_loss: 0.5420 - val_accuracy: 0.8055\n",
      "Epoch 90/200\n",
      "19/19 [==============================] - 0s 3ms/step - loss: 0.5407 - accuracy: 0.8211 - val_loss: 0.5354 - val_accuracy: 0.8225\n",
      "Epoch 91/200\n",
      "19/19 [==============================] - 0s 3ms/step - loss: 0.5461 - accuracy: 0.8288 - val_loss: 0.5343 - val_accuracy: 0.8191\n",
      "Epoch 92/200\n",
      "19/19 [==============================] - 0s 4ms/step - loss: 0.5430 - accuracy: 0.8271 - val_loss: 0.5346 - val_accuracy: 0.8157\n",
      "Epoch 93/200\n",
      "19/19 [==============================] - 0s 3ms/step - loss: 0.5471 - accuracy: 0.8271 - val_loss: 0.5416 - val_accuracy: 0.8055\n",
      "Epoch 94/200\n",
      "19/19 [==============================] - 0s 3ms/step - loss: 0.5575 - accuracy: 0.8202 - val_loss: 0.5321 - val_accuracy: 0.8157\n",
      "Epoch 95/200\n",
      "19/19 [==============================] - 0s 3ms/step - loss: 0.5391 - accuracy: 0.8330 - val_loss: 0.5278 - val_accuracy: 0.8157\n",
      "Epoch 96/200\n",
      "19/19 [==============================] - 0s 3ms/step - loss: 0.5558 - accuracy: 0.8193 - val_loss: 0.5236 - val_accuracy: 0.8259\n",
      "Epoch 97/200\n",
      "19/19 [==============================] - 0s 3ms/step - loss: 0.5346 - accuracy: 0.8288 - val_loss: 0.5243 - val_accuracy: 0.8225\n",
      "Epoch 98/200\n",
      "19/19 [==============================] - 0s 3ms/step - loss: 0.5408 - accuracy: 0.8211 - val_loss: 0.5297 - val_accuracy: 0.8191\n",
      "Epoch 99/200\n",
      "19/19 [==============================] - 0s 3ms/step - loss: 0.5234 - accuracy: 0.8296 - val_loss: 0.5314 - val_accuracy: 0.8225\n",
      "Epoch 100/200\n",
      "19/19 [==============================] - 0s 4ms/step - loss: 0.5376 - accuracy: 0.8296 - val_loss: 0.5224 - val_accuracy: 0.8259\n",
      "Epoch 101/200\n",
      "19/19 [==============================] - 0s 3ms/step - loss: 0.5407 - accuracy: 0.8305 - val_loss: 0.5233 - val_accuracy: 0.8259\n",
      "Epoch 102/200\n",
      "19/19 [==============================] - 0s 3ms/step - loss: 0.5362 - accuracy: 0.8322 - val_loss: 0.5288 - val_accuracy: 0.8157\n",
      "Epoch 103/200\n",
      "19/19 [==============================] - 0s 3ms/step - loss: 0.5369 - accuracy: 0.8271 - val_loss: 0.5309 - val_accuracy: 0.8123\n",
      "Epoch 104/200\n",
      "19/19 [==============================] - 0s 3ms/step - loss: 0.5319 - accuracy: 0.8305 - val_loss: 0.5159 - val_accuracy: 0.8259\n",
      "Epoch 105/200\n",
      "19/19 [==============================] - 0s 3ms/step - loss: 0.5435 - accuracy: 0.8211 - val_loss: 0.5197 - val_accuracy: 0.8259\n",
      "Epoch 106/200\n",
      "19/19 [==============================] - 0s 3ms/step - loss: 0.5280 - accuracy: 0.8288 - val_loss: 0.5181 - val_accuracy: 0.8259\n",
      "Epoch 107/200\n",
      "19/19 [==============================] - 0s 3ms/step - loss: 0.5342 - accuracy: 0.8339 - val_loss: 0.5143 - val_accuracy: 0.8259\n",
      "Epoch 108/200\n",
      "19/19 [==============================] - 0s 3ms/step - loss: 0.5252 - accuracy: 0.8365 - val_loss: 0.5285 - val_accuracy: 0.8191\n",
      "Epoch 109/200\n",
      "19/19 [==============================] - 0s 3ms/step - loss: 0.5349 - accuracy: 0.8339 - val_loss: 0.5128 - val_accuracy: 0.8259\n",
      "Epoch 110/200\n",
      "19/19 [==============================] - 0s 3ms/step - loss: 0.5216 - accuracy: 0.8390 - val_loss: 0.5137 - val_accuracy: 0.8294\n",
      "Epoch 111/200\n",
      "19/19 [==============================] - 0s 3ms/step - loss: 0.5167 - accuracy: 0.8373 - val_loss: 0.5113 - val_accuracy: 0.8294\n",
      "Epoch 112/200\n",
      "19/19 [==============================] - 0s 3ms/step - loss: 0.5244 - accuracy: 0.8408 - val_loss: 0.5099 - val_accuracy: 0.8294\n",
      "Epoch 113/200\n",
      "19/19 [==============================] - 0s 3ms/step - loss: 0.5218 - accuracy: 0.8348 - val_loss: 0.5336 - val_accuracy: 0.8225\n",
      "Epoch 114/200\n",
      "19/19 [==============================] - 0s 3ms/step - loss: 0.5245 - accuracy: 0.8365 - val_loss: 0.5072 - val_accuracy: 0.8259\n",
      "Epoch 115/200\n",
      "19/19 [==============================] - 0s 3ms/step - loss: 0.5245 - accuracy: 0.8408 - val_loss: 0.5168 - val_accuracy: 0.8225\n",
      "Epoch 116/200\n",
      "19/19 [==============================] - 0s 4ms/step - loss: 0.5209 - accuracy: 0.8339 - val_loss: 0.5116 - val_accuracy: 0.8294\n",
      "Epoch 117/200\n",
      "19/19 [==============================] - 0s 3ms/step - loss: 0.5192 - accuracy: 0.8408 - val_loss: 0.5133 - val_accuracy: 0.8259\n",
      "Epoch 118/200\n",
      "19/19 [==============================] - 0s 3ms/step - loss: 0.5160 - accuracy: 0.8356 - val_loss: 0.5144 - val_accuracy: 0.8225\n",
      "Epoch 119/200\n",
      "19/19 [==============================] - 0s 3ms/step - loss: 0.5264 - accuracy: 0.8348 - val_loss: 0.5342 - val_accuracy: 0.8089\n",
      "Epoch 120/200\n",
      "19/19 [==============================] - 0s 3ms/step - loss: 0.5532 - accuracy: 0.8202 - val_loss: 0.5094 - val_accuracy: 0.8259\n",
      "Epoch 121/200\n",
      "19/19 [==============================] - 0s 3ms/step - loss: 0.5273 - accuracy: 0.8271 - val_loss: 0.5083 - val_accuracy: 0.8328\n",
      "Epoch 122/200\n",
      "19/19 [==============================] - 0s 3ms/step - loss: 0.5148 - accuracy: 0.8416 - val_loss: 0.5132 - val_accuracy: 0.8328\n",
      "Epoch 123/200\n",
      "19/19 [==============================] - 0s 3ms/step - loss: 0.5104 - accuracy: 0.8416 - val_loss: 0.5110 - val_accuracy: 0.8294\n",
      "Epoch 124/200\n",
      "19/19 [==============================] - 0s 5ms/step - loss: 0.5071 - accuracy: 0.8433 - val_loss: 0.5149 - val_accuracy: 0.8294\n"
     ]
    },
    {
     "data": {
      "image/png": "[encoded data removed]",
      "text/plain": [
       "<Figure size 640x480 with 1 Axes>"
      ]
     },
     "metadata": {},
     "output_type": "display_data"
    },
    {
     "data": {
      "image/png": "[encoded data removed]",
      "text/plain": [
       "<Figure size 640x480 with 1 Axes>"
      ]
     },
     "metadata": {},
     "output_type": "display_data"
    }
   ],
   "source": [
    "# Melatih Model\n",
    "history = model.fit(X_train, y_train, epochs=200, batch_size=64, validation_data=(X_test, y_test), callbacks=[early_stopping])\n",
    "\n",
    "# Plot training & validation accuracy values\n",
    "plt.plot(history.history['accuracy'])\n",
    "plt.plot(history.history['val_accuracy'])\n",
    "plt.title('Model accuracy')\n",
    "plt.ylabel('Accuracy')\n",
    "plt.xlabel('Epoch')\n",
    "plt.legend(['Train', 'Test'], loc='upper left')\n",
    "plt.show()\n",
    "\n",
    "# Plot training & validation loss values\n",
    "plt.plot(history.history['loss'])\n",
    "plt.plot(history.history['val_loss'])\n",
    "plt.title('Model loss')\n",
    "plt.ylabel('Loss')\n",
    "plt.xlabel('Epoch')\n",
    "plt.legend(['Train', 'Test'], loc='upper left')\n",
    "plt.show()"
   ]
  },
  {
   "cell_type": "code",
   "execution_count": 54,
   "id": "7ff23a3e-e573-4f51-b36d-c0d9b8a421ea",
   "metadata": {},
   "outputs": [
    {
     "name": "stdout",
     "output_type": "stream",
     "text": [
      "10/10 [==============================] - 0s 2ms/step - loss: 0.5072 - accuracy: 0.8259\n",
      "Accuracy: 82.59%\n"
     ]
    }
   ],
   "source": [
    "# Evaluasi Model\n",
    "loss, accuracy = model.evaluate(X_test, y_test)\n",
    "print(f'Accuracy: {accuracy * 100:.2f}%')"
   ]
  },
  {
   "cell_type": "code",
   "execution_count": 27,
   "id": "7d2ba2ee-14e6-4ab9-8314-5e0b0ff75c6e",
   "metadata": {},
   "outputs": [
    {
     "name": "stdout",
     "output_type": "stream",
     "text": [
      "10/10 [==============================] - 0s 1ms/step\n"
     ]
    }
   ],
   "source": [
    "# Prediksi dan Menghitung F1 Score\n",
    "predictions = model.predict(X_test)\n",
    "predicted_classes = np.argmax(predictions, axis=1)"
   ]
  },
  {
   "cell_type": "code",
   "execution_count": 28,
   "id": "f85804e5-d002-4272-97f7-85d6b376c404",
   "metadata": {},
   "outputs": [],
   "source": [
    "# Mengonversi Kembali Kelas ke Label Asli\n",
    "predicted_weather = le.inverse_transform(predicted_classes)"
   ]
  },
  {
   "cell_type": "code",
   "execution_count": 29,
   "id": "7db5c66a-f58b-41d0-9ad9-133595115127",
   "metadata": {},
   "outputs": [
    {
     "name": "stdout",
     "output_type": "stream",
     "text": [
      "F1 Scores untuk masing-masing kondisi cuaca:\n",
      "drizzle: 0.00\n",
      "fog: 0.00\n",
      "rain: 0.94\n",
      "snow: 0.22\n",
      "sun: 0.86\n"
     ]
    }
   ],
   "source": [
    "# Menghitung F1 Score\n",
    "f1 = f1_score(y_test, predicted_classes, average=None)  # F1 score untuk setiap kelas\n",
    "print(\"F1 Scores untuk masing-masing kondisi cuaca:\")\n",
    "for weather, score in zip(le.classes_, f1):\n",
    "    print(f\"{weather}: {score:.2f}\")"
   ]
  },
  {
   "cell_type": "code",
   "execution_count": 30,
   "id": "2cb3a55f-db60-43c2-8dec-ae12b0c5350f",
   "metadata": {},
   "outputs": [
    {
     "name": "stdout",
     "output_type": "stream",
     "text": [
      "\n",
      "Laporan Klasifikasi:\n",
      "              precision    recall  f1-score   support\n",
      "\n",
      "     drizzle       0.00      0.00      0.00         9\n",
      "         fog       0.00      0.00      0.00        25\n",
      "        rain       0.94      0.93      0.94       120\n",
      "        snow       1.00      0.12      0.22         8\n",
      "         sun       0.76      1.00      0.86       131\n",
      "\n",
      "    accuracy                           0.83       293\n",
      "   macro avg       0.54      0.41      0.40       293\n",
      "weighted avg       0.75      0.83      0.78       293\n",
      "\n"
     ]
    },
    {
     "name": "stderr",
     "output_type": "stream",
     "text": [
      "c:\\Users\\USER\\AppData\\Local\\Programs\\Python\\Python311\\Lib\\site-packages\\sklearn\\metrics\\_classification.py:1471: UndefinedMetricWarning: Precision and F-score are ill-defined and being set to 0.0 in labels with no predicted samples. Use `zero_division` parameter to control this behavior.\n",
      "  _warn_prf(average, modifier, msg_start, len(result))\n",
      "c:\\Users\\USER\\AppData\\Local\\Programs\\Python\\Python311\\Lib\\site-packages\\sklearn\\metrics\\_classification.py:1471: UndefinedMetricWarning: Precision and F-score are ill-defined and being set to 0.0 in labels with no predicted samples. Use `zero_division` parameter to control this behavior.\n",
      "  _warn_prf(average, modifier, msg_start, len(result))\n",
      "c:\\Users\\USER\\AppData\\Local\\Programs\\Python\\Python311\\Lib\\site-packages\\sklearn\\metrics\\_classification.py:1471: UndefinedMetricWarning: Precision and F-score are ill-defined and being set to 0.0 in labels with no predicted samples. Use `zero_division` parameter to control this behavior.\n",
      "  _warn_prf(average, modifier, msg_start, len(result))\n"
     ]
    }
   ],
   "source": [
    "# Menampilkan Laporan Klasifikasi\n",
    "print(\"\\nLaporan Klasifikasi:\")\n",
    "print(classification_report(y_test, predicted_classes, target_names=le.classes_))"
   ]
  },
  {
   "cell_type": "code",
   "execution_count": 31,
   "id": "2287f66c-848d-4c96-bda6-fa52959338f7",
   "metadata": {},
   "outputs": [
    {
     "data": {
      "image/png": "[encoded data removed]",
      "text/plain": [
       "<Figure size 640x480 with 2 Axes>"
      ]
     },
     "metadata": {},
     "output_type": "display_data"
    }
   ],
   "source": [
    "# Menampilkan Confusion Matrix\n",
    "cm = confusion_matrix(y_test, predicted_classes)\n",
    "disp = ConfusionMatrixDisplay(confusion_matrix=cm, display_labels=le.classes_)\n",
    "disp.plot(cmap=plt.cm.Blues)\n",
    "plt.title(\"Confusion Matrix\")\n",
    "plt.show()"
   ]
  },
  {
   "cell_type": "code",
   "execution_count": 32,
   "id": "7abce351-5735-49c8-812b-a051d0578fb7",
   "metadata": {},
   "outputs": [
    {
     "name": "stdout",
     "output_type": "stream",
     "text": [
      "Predicted: sun, Actual: sun\n",
      "Predicted: rain, Actual: rain\n",
      "Predicted: sun, Actual: sun\n",
      "Predicted: rain, Actual: rain\n",
      "Predicted: sun, Actual: fog\n",
      "Predicted: rain, Actual: rain\n",
      "Predicted: sun, Actual: sun\n",
      "Predicted: rain, Actual: rain\n",
      "Predicted: sun, Actual: sun\n",
      "Predicted: sun, Actual: fog\n"
     ]
    }
   ],
   "source": [
    "#  Contoh Prediksi\n",
    "sample_indices = np.random.randint(0, X_test.shape[0], 10)  # Mengambil 10 prediksi acak\n",
    "for index in sample_indices:\n",
    "    print(f'Predicted: {predicted_weather[index]}, Actual: {le.inverse_transform([y_test[index]])[0]}')\n"
   ]
  },
  {
   "cell_type": "code",
   "execution_count": 55,
   "id": "e5c0ae0a",
   "metadata": {},
   "outputs": [
    {
     "name": "stdout",
     "output_type": "stream",
     "text": [
      "\n",
      "Correct Predictions: 244\n",
      "Incorrect Predictions: 49\n"
     ]
    }
   ],
   "source": [
    "# Menghitung prediksi benar dan salah dari hasil prediksi\n",
    "correct_predictions = np.sum(predicted_classes == y_test)\n",
    "incorrect_predictions = len(y_test) - correct_predictions\n",
    "\n",
    "print(f\"\\nCorrect Predictions: {correct_predictions}\")\n",
    "print(f\"Incorrect Predictions: {incorrect_predictions}\")"
   ]
  },
  {
   "cell_type": "markdown",
   "id": "beff7747",
   "metadata": {},
   "source": [
    "Dari 293 data uji, Sebanyak 244 sampel dari set pengujian memiliki label yang diprediksi oleh model sesuai dengan label asli, dan Sebanyak 49 sampel dari set pengujian memiliki label yang diprediksi oleh model tidak sesuai dengan label asli"
   ]
  }
 ],
 "metadata": {
  "kernelspec": {
   "display_name": "Python 3",
   "language": "python",
   "name": "python3"
  },
  "language_info": {
   "codemirror_mode": {
    "name": "ipython",
    "version": 3
   },
   "file_extension": ".py",
   "mimetype": "text/x-python",
   "name": "python",
   "nbconvert_exporter": "python",
   "pygments_lexer": "ipython3",
   "version": "3.11.5"
  }
 },
 "nbformat": 4,
 "nbformat_minor": 5
}
